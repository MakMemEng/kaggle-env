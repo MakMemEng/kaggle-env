{
 "cells": [
  {
   "cell_type": "markdown",
   "metadata": {},
   "source": [
    "## What should I expect the data format to be?\n",
    "Each sample in the train and test set has the following information:\n",
    "\n",
    "The text of a tweet\n",
    "A keyword from that tweet (although this may be blank!)\n",
    "The location the tweet was sent from (may also be blank)\n",
    "## What am I predicting?\n",
    "You are predicting whether a given tweet is about a real disaster or not. If so, predict a 1. If not, predict a 0."
   ]
  },
  {
   "cell_type": "code",
   "execution_count": 7,
   "metadata": {},
   "outputs": [],
   "source": [
    "import pandas as pd\n",
    "import polars as pl\n"
   ]
  },
  {
   "cell_type": "code",
   "execution_count": 24,
   "metadata": {},
   "outputs": [],
   "source": [
    "train_pl = pl.read_csv('./train.csv')\n",
    "# train_pd = pd.read_csv('./train.csv')\n",
    "test_pl = pl.read_csv('./test.csv')\n",
    "# test_pd = pd.read_csv('./test.csv')\n"
   ]
  },
  {
   "cell_type": "code",
   "execution_count": 25,
   "metadata": {},
   "outputs": [
    {
     "data": {
      "text/html": [
       "<div><style>\n",
       ".dataframe > thead > tr > th,\n",
       ".dataframe > tbody > tr > td {\n",
       "  text-align: right;\n",
       "  white-space: pre-wrap;\n",
       "}\n",
       "</style>\n",
       "<small>shape: (5, 5)</small><table border=\"1\" class=\"dataframe\"><thead><tr><th>id</th><th>keyword</th><th>location</th><th>text</th><th>target</th></tr><tr><td>i64</td><td>str</td><td>str</td><td>str</td><td>i64</td></tr></thead><tbody><tr><td>1</td><td>null</td><td>null</td><td>&quot;Our Deeds are …</td><td>1</td></tr><tr><td>4</td><td>null</td><td>null</td><td>&quot;Forest fire ne…</td><td>1</td></tr><tr><td>5</td><td>null</td><td>null</td><td>&quot;All residents …</td><td>1</td></tr><tr><td>6</td><td>null</td><td>null</td><td>&quot;13,000 people …</td><td>1</td></tr><tr><td>7</td><td>null</td><td>null</td><td>&quot;Just got sent …</td><td>1</td></tr></tbody></table></div>"
      ],
      "text/plain": [
       "shape: (5, 5)\n",
       "┌─────┬─────────┬──────────┬───────────────────────────────────┬────────┐\n",
       "│ id  ┆ keyword ┆ location ┆ text                              ┆ target │\n",
       "│ --- ┆ ---     ┆ ---      ┆ ---                               ┆ ---    │\n",
       "│ i64 ┆ str     ┆ str      ┆ str                               ┆ i64    │\n",
       "╞═════╪═════════╪══════════╪═══════════════════════════════════╪════════╡\n",
       "│ 1   ┆ null    ┆ null     ┆ Our Deeds are the Reason of this… ┆ 1      │\n",
       "│ 4   ┆ null    ┆ null     ┆ Forest fire near La Ronge Sask. … ┆ 1      │\n",
       "│ 5   ┆ null    ┆ null     ┆ All residents asked to 'shelter … ┆ 1      │\n",
       "│ 6   ┆ null    ┆ null     ┆ 13,000 people receive #wildfires… ┆ 1      │\n",
       "│ 7   ┆ null    ┆ null     ┆ Just got sent this photo from Ru… ┆ 1      │\n",
       "└─────┴─────────┴──────────┴───────────────────────────────────┴────────┘"
      ]
     },
     "execution_count": 25,
     "metadata": {},
     "output_type": "execute_result"
    }
   ],
   "source": [
    "train_pl.filter(pl.col('target')==1).head()\n"
   ]
  },
  {
   "cell_type": "code",
   "execution_count": 26,
   "metadata": {},
   "outputs": [
    {
     "data": {
      "text/html": [
       "<div><style>\n",
       ".dataframe > thead > tr > th,\n",
       ".dataframe > tbody > tr > td {\n",
       "  text-align: right;\n",
       "  white-space: pre-wrap;\n",
       "}\n",
       "</style>\n",
       "<small>shape: (5, 5)</small><table border=\"1\" class=\"dataframe\"><thead><tr><th>id</th><th>keyword</th><th>location</th><th>text</th><th>target</th></tr><tr><td>i64</td><td>str</td><td>str</td><td>str</td><td>i64</td></tr></thead><tbody><tr><td>23</td><td>null</td><td>null</td><td>&quot;What&#x27;s up man?…</td><td>0</td></tr><tr><td>24</td><td>null</td><td>null</td><td>&quot;I love fruits&quot;</td><td>0</td></tr><tr><td>25</td><td>null</td><td>null</td><td>&quot;Summer is love…</td><td>0</td></tr><tr><td>26</td><td>null</td><td>null</td><td>&quot;My car is so f…</td><td>0</td></tr><tr><td>28</td><td>null</td><td>null</td><td>&quot;What a goooooo…</td><td>0</td></tr></tbody></table></div>"
      ],
      "text/plain": [
       "shape: (5, 5)\n",
       "┌─────┬─────────┬──────────┬──────────────────────────────┬────────┐\n",
       "│ id  ┆ keyword ┆ location ┆ text                         ┆ target │\n",
       "│ --- ┆ ---     ┆ ---      ┆ ---                          ┆ ---    │\n",
       "│ i64 ┆ str     ┆ str      ┆ str                          ┆ i64    │\n",
       "╞═════╪═════════╪══════════╪══════════════════════════════╪════════╡\n",
       "│ 23  ┆ null    ┆ null     ┆ What's up man?               ┆ 0      │\n",
       "│ 24  ┆ null    ┆ null     ┆ I love fruits                ┆ 0      │\n",
       "│ 25  ┆ null    ┆ null     ┆ Summer is lovely             ┆ 0      │\n",
       "│ 26  ┆ null    ┆ null     ┆ My car is so fast            ┆ 0      │\n",
       "│ 28  ┆ null    ┆ null     ┆ What a goooooooaaaaaal!!!!!! ┆ 0      │\n",
       "└─────┴─────────┴──────────┴──────────────────────────────┴────────┘"
      ]
     },
     "execution_count": 26,
     "metadata": {},
     "output_type": "execute_result"
    }
   ],
   "source": [
    "train_pl.filter(pl.col('target')==0).head()\n"
   ]
  },
  {
   "cell_type": "code",
   "execution_count": 20,
   "metadata": {},
   "outputs": [
    {
     "data": {
      "text/html": [
       "<div><style>\n",
       ".dataframe > thead > tr > th,\n",
       ".dataframe > tbody > tr > td {\n",
       "  text-align: right;\n",
       "  white-space: pre-wrap;\n",
       "}\n",
       "</style>\n",
       "<small>shape: (9, 6)</small><table border=\"1\" class=\"dataframe\"><thead><tr><th>describe</th><th>id</th><th>keyword</th><th>location</th><th>text</th><th>target</th></tr><tr><td>str</td><td>f64</td><td>str</td><td>str</td><td>str</td><td>f64</td></tr></thead><tbody><tr><td>&quot;count&quot;</td><td>7613.0</td><td>&quot;7613&quot;</td><td>&quot;7613&quot;</td><td>&quot;7613&quot;</td><td>7613.0</td></tr><tr><td>&quot;null_count&quot;</td><td>0.0</td><td>&quot;61&quot;</td><td>&quot;2533&quot;</td><td>&quot;0&quot;</td><td>0.0</td></tr><tr><td>&quot;mean&quot;</td><td>5441.934848</td><td>null</td><td>null</td><td>null</td><td>0.42966</td></tr><tr><td>&quot;std&quot;</td><td>3137.11609</td><td>null</td><td>null</td><td>null</td><td>0.49506</td></tr><tr><td>&quot;min&quot;</td><td>1.0</td><td>&quot;ablaze&quot;</td><td>&quot;  &quot;</td><td>&quot;! Residents Re…</td><td>0.0</td></tr><tr><td>&quot;25%&quot;</td><td>2734.0</td><td>null</td><td>null</td><td>null</td><td>0.0</td></tr><tr><td>&quot;50%&quot;</td><td>5408.0</td><td>null</td><td>null</td><td>null</td><td>0.0</td></tr><tr><td>&quot;75%&quot;</td><td>8146.0</td><td>null</td><td>null</td><td>null</td><td>1.0</td></tr><tr><td>&quot;max&quot;</td><td>10873.0</td><td>&quot;wrecked&quot;</td><td>&quot;åø\\_(?)_/åø&quot;</td><td>&quot;åÈMGN-AFRICAå¨…</td><td>1.0</td></tr></tbody></table></div>"
      ],
      "text/plain": [
       "shape: (9, 6)\n",
       "┌────────────┬─────────────┬─────────┬─────────────┬───────────────────────────────────┬─────────┐\n",
       "│ describe   ┆ id          ┆ keyword ┆ location    ┆ text                              ┆ target  │\n",
       "│ ---        ┆ ---         ┆ ---     ┆ ---         ┆ ---                               ┆ ---     │\n",
       "│ str        ┆ f64         ┆ str     ┆ str         ┆ str                               ┆ f64     │\n",
       "╞════════════╪═════════════╪═════════╪═════════════╪═══════════════════════════════════╪═════════╡\n",
       "│ count      ┆ 7613.0      ┆ 7613    ┆ 7613        ┆ 7613                              ┆ 7613.0  │\n",
       "│ null_count ┆ 0.0         ┆ 61      ┆ 2533        ┆ 0                                 ┆ 0.0     │\n",
       "│ mean       ┆ 5441.934848 ┆ null    ┆ null        ┆ null                              ┆ 0.42966 │\n",
       "│ std        ┆ 3137.11609  ┆ null    ┆ null        ┆ null                              ┆ 0.49506 │\n",
       "│ min        ┆ 1.0         ┆ ablaze  ┆             ┆ ! Residents Return To Destroyed … ┆ 0.0     │\n",
       "│ 25%        ┆ 2734.0      ┆ null    ┆ null        ┆ null                              ┆ 0.0     │\n",
       "│ 50%        ┆ 5408.0      ┆ null    ┆ null        ┆ null                              ┆ 0.0     │\n",
       "│ 75%        ┆ 8146.0      ┆ null    ┆ null        ┆ null                              ┆ 1.0     │\n",
       "│ max        ┆ 10873.0     ┆ wrecked ┆ åø\\_(?)_/åø ┆ åÈMGN-AFRICAå¨ pin:263789F4 åÈ C… ┆ 1.0     │\n",
       "└────────────┴─────────────┴─────────┴─────────────┴───────────────────────────────────┴─────────┘"
      ]
     },
     "execution_count": 20,
     "metadata": {},
     "output_type": "execute_result"
    }
   ],
   "source": [
    "train_pl.describe()\n"
   ]
  },
  {
   "cell_type": "code",
   "execution_count": 31,
   "metadata": {},
   "outputs": [
    {
     "data": {
      "text/html": [
       "<div><style>\n",
       ".dataframe > thead > tr > th,\n",
       ".dataframe > tbody > tr > td {\n",
       "  text-align: right;\n",
       "  white-space: pre-wrap;\n",
       "}\n",
       "</style>\n",
       "<small>shape: (5_080, 5)</small><table border=\"1\" class=\"dataframe\"><thead><tr><th>id</th><th>keyword</th><th>location</th><th>text</th><th>target</th></tr><tr><td>i64</td><td>str</td><td>str</td><td>str</td><td>i64</td></tr></thead><tbody><tr><td>48</td><td>&quot;ablaze&quot;</td><td>&quot;Birmingham&quot;</td><td>&quot;@bbcmtd Wholes…</td><td>1</td></tr><tr><td>49</td><td>&quot;ablaze&quot;</td><td>&quot;Est. September…</td><td>&quot;We always try …</td><td>0</td></tr><tr><td>50</td><td>&quot;ablaze&quot;</td><td>&quot;AFRICA&quot;</td><td>&quot;#AFRICANBAZE: …</td><td>1</td></tr><tr><td>52</td><td>&quot;ablaze&quot;</td><td>&quot;Philadelphia, …</td><td>&quot;Crying out for…</td><td>0</td></tr><tr><td>53</td><td>&quot;ablaze&quot;</td><td>&quot;London, UK&quot;</td><td>&quot;On plus side L…</td><td>0</td></tr><tr><td>54</td><td>&quot;ablaze&quot;</td><td>&quot;Pretoria&quot;</td><td>&quot;@PhDSquares #m…</td><td>0</td></tr><tr><td>55</td><td>&quot;ablaze&quot;</td><td>&quot;World Wide!!&quot;</td><td>&quot;INEC Office in…</td><td>1</td></tr><tr><td>57</td><td>&quot;ablaze&quot;</td><td>&quot;Paranaque City…</td><td>&quot;Ablaze for you…</td><td>0</td></tr><tr><td>59</td><td>&quot;ablaze&quot;</td><td>&quot;Live On Webcam…</td><td>&quot;Check these ou…</td><td>0</td></tr><tr><td>62</td><td>&quot;ablaze&quot;</td><td>&quot;milky way&quot;</td><td>&quot;Had an awesome…</td><td>0</td></tr><tr><td>66</td><td>&quot;ablaze&quot;</td><td>&quot;GREENSBORO,NOR…</td><td>&quot;How the West w…</td><td>1</td></tr><tr><td>68</td><td>&quot;ablaze&quot;</td><td>&quot;Live On Webcam…</td><td>&quot;Check these ou…</td><td>0</td></tr><tr><td>&hellip;</td><td>&hellip;</td><td>&hellip;</td><td>&hellip;</td><td>&hellip;</td></tr><tr><td>10817</td><td>&quot;wrecked&quot;</td><td>&quot;At your back&quot;</td><td>&quot;Wrecked emotio…</td><td>0</td></tr><tr><td>10819</td><td>&quot;wrecked&quot;</td><td>&quot;Livingston, MT…</td><td>&quot;@marynmck That…</td><td>0</td></tr><tr><td>10821</td><td>&quot;wrecked&quot;</td><td>&quot;California&quot;</td><td>&quot;Cramer: Iger&#x27;s…</td><td>0</td></tr><tr><td>10822</td><td>&quot;wrecked&quot;</td><td>&quot;  Glasgow &quot;</td><td>&quot;@Caitsroberts …</td><td>0</td></tr><tr><td>10823</td><td>&quot;wrecked&quot;</td><td>&quot;Manhattan, NY&quot;</td><td>&quot;@Kirafrog @mou…</td><td>1</td></tr><tr><td>10824</td><td>&quot;wrecked&quot;</td><td>&quot;Denton, Texas&quot;</td><td>&quot;Had an awesome…</td><td>0</td></tr><tr><td>10825</td><td>&quot;wrecked&quot;</td><td>&quot;Global&quot;</td><td>&quot;Cramer: 3 word…</td><td>0</td></tr><tr><td>10826</td><td>&quot;wrecked&quot;</td><td>&quot;TN&quot;</td><td>&quot;On the bright …</td><td>0</td></tr><tr><td>10829</td><td>&quot;wrecked&quot;</td><td>&quot;#Newcastleupon…</td><td>&quot;@widda16 ... H…</td><td>0</td></tr><tr><td>10831</td><td>&quot;wrecked&quot;</td><td>&quot;Vancouver, Can…</td><td>&quot;Three days off…</td><td>0</td></tr><tr><td>10832</td><td>&quot;wrecked&quot;</td><td>&quot;London &quot;</td><td>&quot;#FX #forex #tr…</td><td>0</td></tr><tr><td>10833</td><td>&quot;wrecked&quot;</td><td>&quot;Lincoln&quot;</td><td>&quot;@engineshed Gr…</td><td>0</td></tr></tbody></table></div>"
      ],
      "text/plain": [
       "shape: (5_080, 5)\n",
       "┌───────┬─────────┬───────────────────────────────┬───────────────────────────────────┬────────┐\n",
       "│ id    ┆ keyword ┆ location                      ┆ text                              ┆ target │\n",
       "│ ---   ┆ ---     ┆ ---                           ┆ ---                               ┆ ---    │\n",
       "│ i64   ┆ str     ┆ str                           ┆ str                               ┆ i64    │\n",
       "╞═══════╪═════════╪═══════════════════════════════╪═══════════════════════════════════╪════════╡\n",
       "│ 48    ┆ ablaze  ┆ Birmingham                    ┆ @bbcmtd Wholesale Markets ablaze… ┆ 1      │\n",
       "│ 49    ┆ ablaze  ┆ Est. September 2012 - Bristol ┆ We always try to bring the heavy… ┆ 0      │\n",
       "│ 50    ┆ ablaze  ┆ AFRICA                        ┆ #AFRICANBAZE: Breaking news:Nige… ┆ 1      │\n",
       "│ 52    ┆ ablaze  ┆ Philadelphia, PA              ┆ Crying out for more! Set me abla… ┆ 0      │\n",
       "│ …     ┆ …       ┆ …                             ┆ …                                 ┆ …      │\n",
       "│ 10829 ┆ wrecked ┆ #NewcastleuponTyne #UK        ┆ @widda16 ... He's gone. You can … ┆ 0      │\n",
       "│ 10831 ┆ wrecked ┆ Vancouver, Canada             ┆ Three days off from work and the… ┆ 0      │\n",
       "│ 10832 ┆ wrecked ┆ London                        ┆ #FX #forex #trading Cramer: Iger… ┆ 0      │\n",
       "│ 10833 ┆ wrecked ┆ Lincoln                       ┆ @engineshed Great atmosphere at … ┆ 0      │\n",
       "└───────┴─────────┴───────────────────────────────┴───────────────────────────────────┴────────┘"
      ]
     },
     "execution_count": 31,
     "metadata": {},
     "output_type": "execute_result"
    }
   ],
   "source": [
    "train_pl.filter(pl.col('location').is_not_null())\n"
   ]
  },
  {
   "cell_type": "code",
   "execution_count": 32,
   "metadata": {},
   "outputs": [
    {
     "data": {
      "text/html": [
       "<div><style>\n",
       ".dataframe > thead > tr > th,\n",
       ".dataframe > tbody > tr > td {\n",
       "  text-align: right;\n",
       "  white-space: pre-wrap;\n",
       "}\n",
       "</style>\n",
       "<small>shape: (7_552, 5)</small><table border=\"1\" class=\"dataframe\"><thead><tr><th>id</th><th>keyword</th><th>location</th><th>text</th><th>target</th></tr><tr><td>i64</td><td>str</td><td>str</td><td>str</td><td>i64</td></tr></thead><tbody><tr><td>48</td><td>&quot;ablaze&quot;</td><td>&quot;Birmingham&quot;</td><td>&quot;@bbcmtd Wholes…</td><td>1</td></tr><tr><td>49</td><td>&quot;ablaze&quot;</td><td>&quot;Est. September…</td><td>&quot;We always try …</td><td>0</td></tr><tr><td>50</td><td>&quot;ablaze&quot;</td><td>&quot;AFRICA&quot;</td><td>&quot;#AFRICANBAZE: …</td><td>1</td></tr><tr><td>52</td><td>&quot;ablaze&quot;</td><td>&quot;Philadelphia, …</td><td>&quot;Crying out for…</td><td>0</td></tr><tr><td>53</td><td>&quot;ablaze&quot;</td><td>&quot;London, UK&quot;</td><td>&quot;On plus side L…</td><td>0</td></tr><tr><td>54</td><td>&quot;ablaze&quot;</td><td>&quot;Pretoria&quot;</td><td>&quot;@PhDSquares #m…</td><td>0</td></tr><tr><td>55</td><td>&quot;ablaze&quot;</td><td>&quot;World Wide!!&quot;</td><td>&quot;INEC Office in…</td><td>1</td></tr><tr><td>56</td><td>&quot;ablaze&quot;</td><td>null</td><td>&quot;Barbados #Brid…</td><td>1</td></tr><tr><td>57</td><td>&quot;ablaze&quot;</td><td>&quot;Paranaque City…</td><td>&quot;Ablaze for you…</td><td>0</td></tr><tr><td>59</td><td>&quot;ablaze&quot;</td><td>&quot;Live On Webcam…</td><td>&quot;Check these ou…</td><td>0</td></tr><tr><td>61</td><td>&quot;ablaze&quot;</td><td>null</td><td>&quot;on the outside…</td><td>0</td></tr><tr><td>62</td><td>&quot;ablaze&quot;</td><td>&quot;milky way&quot;</td><td>&quot;Had an awesome…</td><td>0</td></tr><tr><td>&hellip;</td><td>&hellip;</td><td>&hellip;</td><td>&hellip;</td><td>&hellip;</td></tr><tr><td>10822</td><td>&quot;wrecked&quot;</td><td>&quot;  Glasgow &quot;</td><td>&quot;@Caitsroberts …</td><td>0</td></tr><tr><td>10823</td><td>&quot;wrecked&quot;</td><td>&quot;Manhattan, NY&quot;</td><td>&quot;@Kirafrog @mou…</td><td>1</td></tr><tr><td>10824</td><td>&quot;wrecked&quot;</td><td>&quot;Denton, Texas&quot;</td><td>&quot;Had an awesome…</td><td>0</td></tr><tr><td>10825</td><td>&quot;wrecked&quot;</td><td>&quot;Global&quot;</td><td>&quot;Cramer: 3 word…</td><td>0</td></tr><tr><td>10826</td><td>&quot;wrecked&quot;</td><td>&quot;TN&quot;</td><td>&quot;On the bright …</td><td>0</td></tr><tr><td>10827</td><td>&quot;wrecked&quot;</td><td>null</td><td>&quot;He just wrecke…</td><td>0</td></tr><tr><td>10829</td><td>&quot;wrecked&quot;</td><td>&quot;#Newcastleupon…</td><td>&quot;@widda16 ... H…</td><td>0</td></tr><tr><td>10830</td><td>&quot;wrecked&quot;</td><td>null</td><td>&quot;@jt_ruff23 @ca…</td><td>0</td></tr><tr><td>10831</td><td>&quot;wrecked&quot;</td><td>&quot;Vancouver, Can…</td><td>&quot;Three days off…</td><td>0</td></tr><tr><td>10832</td><td>&quot;wrecked&quot;</td><td>&quot;London &quot;</td><td>&quot;#FX #forex #tr…</td><td>0</td></tr><tr><td>10833</td><td>&quot;wrecked&quot;</td><td>&quot;Lincoln&quot;</td><td>&quot;@engineshed Gr…</td><td>0</td></tr><tr><td>10834</td><td>&quot;wrecked&quot;</td><td>null</td><td>&quot;Cramer: Iger&#x27;s…</td><td>0</td></tr></tbody></table></div>"
      ],
      "text/plain": [
       "shape: (7_552, 5)\n",
       "┌───────┬─────────┬───────────────────────────────┬───────────────────────────────────┬────────┐\n",
       "│ id    ┆ keyword ┆ location                      ┆ text                              ┆ target │\n",
       "│ ---   ┆ ---     ┆ ---                           ┆ ---                               ┆ ---    │\n",
       "│ i64   ┆ str     ┆ str                           ┆ str                               ┆ i64    │\n",
       "╞═══════╪═════════╪═══════════════════════════════╪═══════════════════════════════════╪════════╡\n",
       "│ 48    ┆ ablaze  ┆ Birmingham                    ┆ @bbcmtd Wholesale Markets ablaze… ┆ 1      │\n",
       "│ 49    ┆ ablaze  ┆ Est. September 2012 - Bristol ┆ We always try to bring the heavy… ┆ 0      │\n",
       "│ 50    ┆ ablaze  ┆ AFRICA                        ┆ #AFRICANBAZE: Breaking news:Nige… ┆ 1      │\n",
       "│ 52    ┆ ablaze  ┆ Philadelphia, PA              ┆ Crying out for more! Set me abla… ┆ 0      │\n",
       "│ …     ┆ …       ┆ …                             ┆ …                                 ┆ …      │\n",
       "│ 10831 ┆ wrecked ┆ Vancouver, Canada             ┆ Three days off from work and the… ┆ 0      │\n",
       "│ 10832 ┆ wrecked ┆ London                        ┆ #FX #forex #trading Cramer: Iger… ┆ 0      │\n",
       "│ 10833 ┆ wrecked ┆ Lincoln                       ┆ @engineshed Great atmosphere at … ┆ 0      │\n",
       "│ 10834 ┆ wrecked ┆ null                          ┆ Cramer: Iger's 3 words that wrec… ┆ 0      │\n",
       "└───────┴─────────┴───────────────────────────────┴───────────────────────────────────┴────────┘"
      ]
     },
     "execution_count": 32,
     "metadata": {},
     "output_type": "execute_result"
    }
   ],
   "source": [
    "train_pl.filter(pl.col('keyword').is_not_null())\n"
   ]
  },
  {
   "cell_type": "code",
   "execution_count": null,
   "metadata": {},
   "outputs": [],
   "source": []
  },
  {
   "cell_type": "code",
   "execution_count": null,
   "metadata": {},
   "outputs": [],
   "source": [
    "X_train = train_pl.drop(columns='target')\n",
    "y_train = train_pl['target']\n"
   ]
  },
  {
   "cell_type": "code",
   "execution_count": 33,
   "metadata": {},
   "outputs": [
    {
     "name": "stderr",
     "output_type": "stream",
     "text": [
      "/tmp/ipykernel_4472/2668503639.py:1: DeprecationWarning: `lengths` is deprecated. It has been renamed to `len_bytes`.\n",
      "  max_len = X_train['text'].str.lengths().max()\n"
     ]
    },
    {
     "data": {
      "text/plain": [
       "polars.config.Config"
      ]
     },
     "execution_count": 33,
     "metadata": {},
     "output_type": "execute_result"
    }
   ],
   "source": [
    "max_len = X_train['text'].str.lengths().max()\n",
    "pl.Config. set_fmt_str_lengths(max_len)\n"
   ]
  },
  {
   "cell_type": "code",
   "execution_count": 34,
   "metadata": {},
   "outputs": [
    {
     "data": {
      "text/html": [
       "<div><style>\n",
       ".dataframe > thead > tr > th,\n",
       ".dataframe > tbody > tr > td {\n",
       "  text-align: right;\n",
       "  white-space: pre-wrap;\n",
       "}\n",
       "</style>\n",
       "<small>shape: (5, 4)</small><table border=\"1\" class=\"dataframe\"><thead><tr><th>id</th><th>keyword</th><th>location</th><th>text</th></tr><tr><td>i64</td><td>str</td><td>str</td><td>str</td></tr></thead><tbody><tr><td>1</td><td>null</td><td>null</td><td>&quot;Our Deeds are the Reason of this #earthquake May ALLAH Forgive us all&quot;</td></tr><tr><td>4</td><td>null</td><td>null</td><td>&quot;Forest fire near La Ronge Sask. Canada&quot;</td></tr><tr><td>5</td><td>null</td><td>null</td><td>&quot;All residents asked to &#x27;shelter in place&#x27; are being notified by officers. No other evacuation or shelter in place orders are expected&quot;</td></tr><tr><td>6</td><td>null</td><td>null</td><td>&quot;13,000 people receive #wildfires evacuation orders in California &quot;</td></tr><tr><td>7</td><td>null</td><td>null</td><td>&quot;Just got sent this photo from Ruby #Alaska as smoke from #wildfires pours into a school &quot;</td></tr></tbody></table></div>"
      ],
      "text/plain": [
       "shape: (5, 4)\n",
       "┌─────┬─────────┬──────────┬───────────────────────────────────────────────────────────────────────┐\n",
       "│ id  ┆ keyword ┆ location ┆ text                                                                  │\n",
       "│ --- ┆ ---     ┆ ---      ┆ ---                                                                   │\n",
       "│ i64 ┆ str     ┆ str      ┆ str                                                                   │\n",
       "╞═════╪═════════╪══════════╪═══════════════════════════════════════════════════════════════════════╡\n",
       "│ 1   ┆ null    ┆ null     ┆ Our Deeds are the Reason of this #earthquake May ALLAH Forgive us all │\n",
       "│ 4   ┆ null    ┆ null     ┆ Forest fire near La Ronge Sask. Canada                                │\n",
       "│ 5   ┆ null    ┆ null     ┆ All residents asked to 'shelter in place' are being notified by       │\n",
       "│     ┆         ┆          ┆ officers. No other evacuation or shelter in place orders are expected │\n",
       "│ 6   ┆ null    ┆ null     ┆ 13,000 people receive #wildfires evacuation orders in California      │\n",
       "│ 7   ┆ null    ┆ null     ┆ Just got sent this photo from Ruby #Alaska as smoke from #wildfires   │\n",
       "│     ┆         ┆          ┆ pours into a school                                                   │\n",
       "└─────┴─────────┴──────────┴───────────────────────────────────────────────────────────────────────┘"
      ]
     },
     "execution_count": 34,
     "metadata": {},
     "output_type": "execute_result"
    }
   ],
   "source": [
    "X_train.head()\n"
   ]
  },
  {
   "cell_type": "code",
   "execution_count": 35,
   "metadata": {},
   "outputs": [
    {
     "data": {
      "text/html": [
       "<div><style>\n",
       ".dataframe > thead > tr > th,\n",
       ".dataframe > tbody > tr > td {\n",
       "  text-align: right;\n",
       "  white-space: pre-wrap;\n",
       "}\n",
       "</style>\n",
       "<small>shape: (5, 4)</small><table border=\"1\" class=\"dataframe\"><thead><tr><th>id</th><th>keyword</th><th>location</th><th>text</th></tr><tr><td>i64</td><td>str</td><td>str</td><td>str</td></tr></thead><tbody><tr><td>48</td><td>&quot;ablaze&quot;</td><td>&quot;Birmingham&quot;</td><td>&quot;@bbcmtd Wholesale Markets ablaze http://t.co/lHYXEOHY6C&quot;</td></tr><tr><td>49</td><td>&quot;ablaze&quot;</td><td>&quot;Est. September 2012 - Bristol&quot;</td><td>&quot;We always try to bring the heavy. #metal #RT http://t.co/YAo1e0xngw&quot;</td></tr><tr><td>50</td><td>&quot;ablaze&quot;</td><td>&quot;AFRICA&quot;</td><td>&quot;#AFRICANBAZE: Breaking news:Nigeria flag set ablaze in Aba. http://t.co/2nndBGwyEi&quot;</td></tr><tr><td>52</td><td>&quot;ablaze&quot;</td><td>&quot;Philadelphia, PA&quot;</td><td>&quot;Crying out for more! Set me ablaze&quot;</td></tr><tr><td>53</td><td>&quot;ablaze&quot;</td><td>&quot;London, UK&quot;</td><td>&quot;On plus side LOOK AT THE SKY LAST NIGHT IT WAS ABLAZE http://t.co/qqsmshaJ3N&quot;</td></tr></tbody></table></div>"
      ],
      "text/plain": [
       "shape: (5, 4)\n",
       "┌─────┬─────────┬───────────────────────────────┬──────────────────────────────────────────────────┐\n",
       "│ id  ┆ keyword ┆ location                      ┆ text                                             │\n",
       "│ --- ┆ ---     ┆ ---                           ┆ ---                                              │\n",
       "│ i64 ┆ str     ┆ str                           ┆ str                                              │\n",
       "╞═════╪═════════╪═══════════════════════════════╪══════════════════════════════════════════════════╡\n",
       "│ 48  ┆ ablaze  ┆ Birmingham                    ┆ @bbcmtd Wholesale Markets ablaze                 │\n",
       "│     ┆         ┆                               ┆ http://t.co/lHYXEOHY6C                           │\n",
       "│ 49  ┆ ablaze  ┆ Est. September 2012 - Bristol ┆ We always try to bring the heavy. #metal #RT     │\n",
       "│     ┆         ┆                               ┆ http://t.co/YAo1e0xngw                           │\n",
       "│ 50  ┆ ablaze  ┆ AFRICA                        ┆ #AFRICANBAZE: Breaking news:Nigeria flag set     │\n",
       "│     ┆         ┆                               ┆ ablaze in Aba. http://t.co/2nndBGwyEi            │\n",
       "│ 52  ┆ ablaze  ┆ Philadelphia, PA              ┆ Crying out for more! Set me ablaze               │\n",
       "│ 53  ┆ ablaze  ┆ London, UK                    ┆ On plus side LOOK AT THE SKY LAST NIGHT IT WAS   │\n",
       "│     ┆         ┆                               ┆ ABLAZE http://t.co/qqsmshaJ3N                    │\n",
       "└─────┴─────────┴───────────────────────────────┴──────────────────────────────────────────────────┘"
      ]
     },
     "execution_count": 35,
     "metadata": {},
     "output_type": "execute_result"
    }
   ],
   "source": [
    "X_train.filter(pl.col('keyword').is_not_null()).head()\n"
   ]
  },
  {
   "cell_type": "code",
   "execution_count": 36,
   "metadata": {},
   "outputs": [
    {
     "data": {
      "text/html": [
       "<div><style>\n",
       ".dataframe > thead > tr > th,\n",
       ".dataframe > tbody > tr > td {\n",
       "  text-align: right;\n",
       "  white-space: pre-wrap;\n",
       "}\n",
       "</style>\n",
       "<small>shape: (222,)</small><table border=\"1\" class=\"dataframe\"><thead><tr><th>keyword</th></tr><tr><td>str</td></tr></thead><tbody><tr><td>&quot;blaze&quot;</td></tr><tr><td>&quot;volcano&quot;</td></tr><tr><td>&quot;derailment&quot;</td></tr><tr><td>&quot;trapped&quot;</td></tr><tr><td>&quot;tornado&quot;</td></tr><tr><td>&quot;devastated&quot;</td></tr><tr><td>&quot;chemical%20emergency&quot;</td></tr><tr><td>&quot;destroyed&quot;</td></tr><tr><td>&quot;structural%20failure&quot;</td></tr><tr><td>&quot;casualties&quot;</td></tr><tr><td>&quot;drowning&quot;</td></tr><tr><td>&quot;upheaval&quot;</td></tr><tr><td>&hellip;</td></tr><tr><td>&quot;epicentre&quot;</td></tr><tr><td>&quot;stretcher&quot;</td></tr><tr><td>&quot;burning%20buildings&quot;</td></tr><tr><td>&quot;buildings%20on%20fire&quot;</td></tr><tr><td>&quot;refugees&quot;</td></tr><tr><td>&quot;typhoon&quot;</td></tr><tr><td>&quot;screaming&quot;</td></tr><tr><td>&quot;sandstorm&quot;</td></tr><tr><td>&quot;rescuers&quot;</td></tr><tr><td>&quot;fire&quot;</td></tr><tr><td>&quot;fire%20truck&quot;</td></tr><tr><td>&quot;snowstorm&quot;</td></tr></tbody></table></div>"
      ],
      "text/plain": [
       "shape: (222,)\n",
       "Series: 'keyword' [str]\n",
       "[\n",
       "\t\"blaze\"\n",
       "\t\"volcano\"\n",
       "\t\"derailment\"\n",
       "\t\"trapped\"\n",
       "\t\"tornado\"\n",
       "\t\"devastated\"\n",
       "\t\"chemical%20emergency\"\n",
       "\t\"destroyed\"\n",
       "\t\"structural%20failure\"\n",
       "\t\"casualties\"\n",
       "\t\"drowning\"\n",
       "\t\"upheaval\"\n",
       "\t…\n",
       "\t\"bioterror\"\n",
       "\t\"epicentre\"\n",
       "\t\"stretcher\"\n",
       "\t\"burning%20buildings\"\n",
       "\t\"buildings%20on%20fire\"\n",
       "\t\"refugees\"\n",
       "\t\"typhoon\"\n",
       "\t\"screaming\"\n",
       "\t\"sandstorm\"\n",
       "\t\"rescuers\"\n",
       "\t\"fire\"\n",
       "\t\"fire%20truck\"\n",
       "\t\"snowstorm\"\n",
       "]"
      ]
     },
     "execution_count": 36,
     "metadata": {},
     "output_type": "execute_result"
    }
   ],
   "source": [
    "X_train['keyword'].unique()\n"
   ]
  },
  {
   "cell_type": "code",
   "execution_count": 37,
   "metadata": {},
   "outputs": [
    {
     "data": {
      "text/html": [
       "<div><style>\n",
       ".dataframe > thead > tr > th,\n",
       ".dataframe > tbody > tr > td {\n",
       "  text-align: right;\n",
       "  white-space: pre-wrap;\n",
       "}\n",
       "</style>\n",
       "<small>shape: (3_342,)</small><table border=\"1\" class=\"dataframe\"><thead><tr><th>location</th></tr><tr><td>str</td></tr></thead><tbody><tr><td>&quot;Sunny South florida &quot;</td></tr><tr><td>&quot;Freddy Fazbears pizzeria&quot;</td></tr><tr><td>&quot;Bulgaria&quot;</td></tr><tr><td>&quot;Van Buren, MO&quot;</td></tr><tr><td>&quot;At your back&quot;</td></tr><tr><td>&quot;Huntsville AL&quot;</td></tr><tr><td>&quot;Peterborough, Ont.&quot;</td></tr><tr><td>&quot;Florida but I wanna be n Texas&quot;</td></tr><tr><td>&quot;Essex/Brighton&quot;</td></tr><tr><td>&quot;Victoria, Tx.&quot;</td></tr><tr><td>&quot;?@symbolicjensen?&quot;</td></tr><tr><td>&quot;Ohio&quot;</td></tr><tr><td>&hellip;</td></tr><tr><td>&quot;Chester Football Club&quot;</td></tr><tr><td>&quot;Hooters on Peachtree&quot;</td></tr><tr><td>&quot;N. California USA&quot;</td></tr><tr><td>&quot;Atmosphere&quot;</td></tr><tr><td>&quot;Beit El - Israel&quot;</td></tr><tr><td>&quot;Bend, Oregon&quot;</td></tr><tr><td>&quot;seattle wa&quot;</td></tr><tr><td>&quot;right here&quot;</td></tr><tr><td>&quot;Quito, Ecuador.&quot;</td></tr><tr><td>&quot;The Shady Hyenatown of Finland&quot;</td></tr><tr><td>&quot;Nairobi , Kenya&quot;</td></tr><tr><td>&quot;In Space&quot;</td></tr></tbody></table></div>"
      ],
      "text/plain": [
       "shape: (3_342,)\n",
       "Series: 'location' [str]\n",
       "[\n",
       "\t\"Sunny South florida \"\n",
       "\t\"Freddy Fazbears pizzeria\"\n",
       "\t\"Bulgaria\"\n",
       "\t\"Van Buren, MO\"\n",
       "\t\"At your back\"\n",
       "\t\"Huntsville AL\"\n",
       "\t\"Peterborough, Ont.\"\n",
       "\t\"Florida but I wanna be n Texas\"\n",
       "\t\"Essex/Brighton\"\n",
       "\t\"Victoria, Tx.\"\n",
       "\t\"?@symbolicjensen?\"\n",
       "\t\"Ohio\"\n",
       "\t…\n",
       "\t\"Garden Grove\"\n",
       "\t\"Chester Football Club\"\n",
       "\t\"Hooters on Peachtree\"\n",
       "\t\"N. California USA\"\n",
       "\t\"Atmosphere\"\n",
       "\t\"Beit El - Israel\"\n",
       "\t\"Bend, Oregon\"\n",
       "\t\"seattle wa\"\n",
       "\t\"right here\"\n",
       "\t\"Quito, Ecuador.\"\n",
       "\t\"The Shady Hyenatown of Finland\"\n",
       "\t\"Nairobi , Kenya\"\n",
       "\t\"In Space\"\n",
       "]"
      ]
     },
     "execution_count": 37,
     "metadata": {},
     "output_type": "execute_result"
    }
   ],
   "source": [
    "X_train['location'].unique()\n"
   ]
  },
  {
   "cell_type": "code",
   "execution_count": null,
   "metadata": {},
   "outputs": [],
   "source": []
  }
 ],
 "metadata": {
  "kernelspec": {
   "display_name": "base",
   "language": "python",
   "name": "python3"
  },
  "language_info": {
   "codemirror_mode": {
    "name": "ipython",
    "version": 3
   },
   "file_extension": ".py",
   "mimetype": "text/x-python",
   "name": "python",
   "nbconvert_exporter": "python",
   "pygments_lexer": "ipython3",
   "version": "3.10.12"
  }
 },
 "nbformat": 4,
 "nbformat_minor": 2
}
